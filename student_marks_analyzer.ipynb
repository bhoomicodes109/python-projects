{
  "nbformat": 4,
  "nbformat_minor": 0,
  "metadata": {
    "colab": {
      "provenance": [],
      "authorship_tag": "ABX9TyOD+4qjWbsYQUFVGgxwV8tX",
      "include_colab_link": true
    },
    "kernelspec": {
      "name": "python3",
      "display_name": "Python 3"
    },
    "language_info": {
      "name": "python"
    }
  },
  "cells": [
    {
      "cell_type": "markdown",
      "metadata": {
        "id": "view-in-github",
        "colab_type": "text"
      },
      "source": [
        "<a href=\"https://colab.research.google.com/github/bhoomicodes109/python-projects/blob/main/student_marks_analyzer.ipynb\" target=\"_parent\"><img src=\"https://colab.research.google.com/assets/colab-badge.svg\" alt=\"Open In Colab\"/></a>"
      ]
    },
    {
      "cell_type": "code",
      "execution_count": 1,
      "metadata": {
        "colab": {
          "base_uri": "https://localhost:8080/"
        },
        "id": "1ZppN2x9E2i6",
        "outputId": "a6597728-248d-4a10-9dcf-d258fad9ef35"
      },
      "outputs": [
        {
          "output_type": "stream",
          "name": "stdout",
          "text": [
            "ajay scored 45\n",
            "priya scored 32\n",
            "raj scored 67\n",
            "harsh scored 29\n",
            "rhea scored 88\n",
            "\n",
            " number of passing students= 3\n",
            "\n",
            " highest marks= 88\n",
            "\n",
            " lowest marks= 29\n",
            "\n",
            "average of all marks:\n",
            "52.2\n",
            "\n",
            "students who failed:\n",
            "priya\n",
            "harsh\n"
          ]
        }
      ],
      "source": [
        "student=[\"ajay\",\"priya\",\"raj\",\"harsh\",\"rhea\"]\n",
        "marks=[45,32,67,29,88]\n",
        "for i in range(len(student)):\n",
        "  print(f\"{student[i]} scored {marks[i]}\")\n",
        "passcount=0\n",
        "for m in marks:\n",
        "  if m>=35:\n",
        "    passcount+=1\n",
        "print(\"\\n number of passing students=\",passcount)\n",
        "\n",
        "print(\"\\n highest marks=\",max(marks))\n",
        "\n",
        "print(\"\\n lowest marks=\",min(marks))\n",
        "\n",
        "print(\"\\naverage of all marks:\")\n",
        "total=sum(marks)\n",
        "avg=total/len(student)\n",
        "print(avg)\n",
        "\n",
        "print(\"\\nstudents who failed:\")\n",
        "for i in range(len(marks)):\n",
        "  if marks[i]<35:\n",
        "    print(student[i])\n",
        ""
      ]
    }
  ]
}