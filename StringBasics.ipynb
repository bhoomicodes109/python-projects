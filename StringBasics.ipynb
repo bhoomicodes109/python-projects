{
  "nbformat": 4,
  "nbformat_minor": 0,
  "metadata": {
    "colab": {
      "provenance": [],
      "authorship_tag": "ABX9TyNOd+7eNSQIN2pzvj5JaA1z",
      "include_colab_link": true
    },
    "kernelspec": {
      "name": "python3",
      "display_name": "Python 3"
    },
    "language_info": {
      "name": "python"
    }
  },
  "cells": [
    {
      "cell_type": "markdown",
      "metadata": {
        "id": "view-in-github",
        "colab_type": "text"
      },
      "source": [
        "<a href=\"https://colab.research.google.com/github/bhoomicodes109/python-projects/blob/main/StringBasics.ipynb\" target=\"_parent\"><img src=\"https://colab.research.google.com/assets/colab-badge.svg\" alt=\"Open In Colab\"/></a>"
      ]
    },
    {
      "cell_type": "markdown",
      "source": [
        "**String Basics 1**\n",
        "\n",
        "*   Slicing\n",
        "*   Length function\n",
        "\n"
      ],
      "metadata": {
        "id": "rfghmjL2wy1b"
      }
    },
    {
      "cell_type": "code",
      "execution_count": 2,
      "metadata": {
        "colab": {
          "base_uri": "https://localhost:8080/"
        },
        "id": "olHRlBYYvFHb",
        "outputId": "6cb61d70-7339-43ae-a60a-867e0d5f5fde"
      },
      "outputs": [
        {
          "output_type": "stream",
          "name": "stdout",
          "text": [
            "length of string:\n",
            "18\n",
            "First 3 character of string:\n",
            "Pyt\n",
            "Last 4 character of string:\n",
            "rful\n",
            "Reverse of string:\n",
            "lufrewop si nohtyP\n",
            "Every 2nd character of string:\n",
            "Pto spwru\n"
          ]
        }
      ],
      "source": [
        "str=\"Python is powerful\"\n",
        "print(\"length of string:\")\n",
        "print(len(str)) #length of a string\n",
        "print(\"First 3 character of string:\")\n",
        "print(str[0:3])\n",
        "print(\"Last 4 character of string:\")\n",
        "print(str[-4:])\n",
        "print(\"Reverse of string:\")\n",
        "print(str[::-1])\n",
        "print(\"Every 2nd character of string:\")\n",
        "print(str[::2])"
      ]
    },
    {
      "cell_type": "markdown",
      "source": [
        "**String Operation 2**"
      ],
      "metadata": {
        "id": "i9mNdIBLw7aY"
      }
    },
    {
      "cell_type": "markdown",
      "source": [
        "printing first 3 and last 3 characters of a string"
      ],
      "metadata": {
        "id": "4z1lHY3myfnQ"
      }
    },
    {
      "cell_type": "code",
      "source": [
        "String=input(\"Enter the string:\")\n",
        "if len(String)<6:\n",
        "  print(\"String is too short!!!\")\n",
        "else:\n",
        "  result=String[:3]+String[-3:]\n",
        "  print(\"New string is:\",result)"
      ],
      "metadata": {
        "colab": {
          "base_uri": "https://localhost:8080/"
        },
        "id": "RFI8F9mcxBtg",
        "outputId": "71afbee9-4478-4137-a098-0b2dafe926d2"
      },
      "execution_count": 3,
      "outputs": [
        {
          "output_type": "stream",
          "name": "stdout",
          "text": [
            "Enter the string:bhoomika\n",
            "New string is: bhoika\n"
          ]
        }
      ]
    },
    {
      "cell_type": "markdown",
      "source": [
        "**String basics3**\n",
        "replacing occurences of 1st character in a string with * ,except the 1st character itself"
      ],
      "metadata": {
        "id": "RUx0WKn11K7f"
      }
    },
    {
      "cell_type": "code",
      "source": [
        "string=input(\"Enter a string:\")\n",
        "first_char=string[0]\n",
        "modified=string[0]+string[1:].replace(first_char,\"*\")\n",
        "print(\"Modified String:\",modified)"
      ],
      "metadata": {
        "colab": {
          "base_uri": "https://localhost:8080/"
        },
        "id": "ENiE44Sk1G03",
        "outputId": "ea0f5b0e-628c-4757-cc0d-9cbfce69a0dd"
      },
      "execution_count": 7,
      "outputs": [
        {
          "output_type": "stream",
          "name": "stdout",
          "text": [
            "Enter a string:bubble\n",
            "Modified String: bu**le\n"
          ]
        }
      ]
    },
    {
      "cell_type": "markdown",
      "source": [
        "Swapping first and last character of a string\n"
      ],
      "metadata": {
        "id": "8X4wPZbX5LI1"
      }
    },
    {
      "cell_type": "code",
      "source": [
        "s=input(\"Enter a string:\")\n",
        "if len(s)<2:\n",
        "  print(\"This cannot be swapped!!\")\n",
        "else:\n",
        "  swap=s[-1:]+s[1:-1]+s[0]\n",
        "  print(\"After swapping:\",swap)"
      ],
      "metadata": {
        "colab": {
          "base_uri": "https://localhost:8080/"
        },
        "id": "hE1No-at5RWp",
        "outputId": "011f78ce-f0ad-4de9-c76f-58b97f5b7335"
      },
      "execution_count": 9,
      "outputs": [
        {
          "output_type": "stream",
          "name": "stdout",
          "text": [
            "Enter a string:Python\n",
            "After swapping: nythoP\n"
          ]
        }
      ]
    },
    {
      "cell_type": "markdown",
      "source": [
        "Replacing spaces with hyphen(-)"
      ],
      "metadata": {
        "id": "6v9mXVnP6W0r"
      }
    },
    {
      "cell_type": "code",
      "source": [
        "String=input(\"Enter a sentence:\")\n",
        "updated_string=String.replace(\" \",\"-\")\n",
        "print(\"Updated sentence is:\",updated_string)"
      ],
      "metadata": {
        "colab": {
          "base_uri": "https://localhost:8080/"
        },
        "id": "aSSHWrJp6nKz",
        "outputId": "087be5da-3007-4b12-bed7-fc7a63ab7b43"
      },
      "execution_count": 10,
      "outputs": [
        {
          "output_type": "stream",
          "name": "stdout",
          "text": [
            "Enter a sentence:Hello im learning python basics\n",
            "Updated sentence is: Hello-im-learning-python-basics\n"
          ]
        }
      ]
    }
  ]
}