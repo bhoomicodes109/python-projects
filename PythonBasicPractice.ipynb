{
  "nbformat": 4,
  "nbformat_minor": 0,
  "metadata": {
    "colab": {
      "provenance": [],
      "authorship_tag": "ABX9TyN3oeVbV9tlh0nahFye4I/B",
      "include_colab_link": true
    },
    "kernelspec": {
      "name": "python3",
      "display_name": "Python 3"
    },
    "language_info": {
      "name": "python"
    }
  },
  "cells": [
    {
      "cell_type": "markdown",
      "metadata": {
        "id": "view-in-github",
        "colab_type": "text"
      },
      "source": [
        "<a href=\"https://colab.research.google.com/github/bhoomicodes109/python-projects/blob/main/PythonBasicPractice.ipynb\" target=\"_parent\"><img src=\"https://colab.research.google.com/assets/colab-badge.svg\" alt=\"Open In Colab\"/></a>"
      ]
    },
    {
      "cell_type": "markdown",
      "source": [
        "**Odd or Even**"
      ],
      "metadata": {
        "id": "6WVmIxMJQTaJ"
      }
    },
    {
      "cell_type": "code",
      "execution_count": 3,
      "metadata": {
        "id": "-eEBawXRMbfk",
        "colab": {
          "base_uri": "https://localhost:8080/"
        },
        "outputId": "9cd9d26c-872c-443e-e5db-d983d7a86c1b"
      },
      "outputs": [
        {
          "output_type": "stream",
          "name": "stdout",
          "text": [
            "Enter the number:123\n",
            "123 is Odd Number\n"
          ]
        }
      ],
      "source": [
        "num=int(input(\"Enter the number:\"))\n",
        "if num%2==0:\n",
        "  print(f\"{num} is Even Number\")\n",
        "else:\n",
        "  print(f\"{num} is Odd Number\")"
      ]
    },
    {
      "cell_type": "markdown",
      "source": [
        "**Positive/Negative/Zero**"
      ],
      "metadata": {
        "id": "kQ2bIu4-QR-f"
      }
    },
    {
      "cell_type": "code",
      "source": [
        "num=int(input(\"Enter the number:\"))\n",
        "if num>0:\n",
        "  print(\"Positive Number\")\n",
        "elif num<0:\n",
        "  print(\"Negative Number\")\n",
        "else:\n",
        "  print(\"Zero-0\")"
      ],
      "metadata": {
        "colab": {
          "base_uri": "https://localhost:8080/"
        },
        "id": "Fia5wrniTKqv",
        "outputId": "0f9e4a41-4e3a-4b41-ae32-4d40631d0780"
      },
      "execution_count": 6,
      "outputs": [
        {
          "output_type": "stream",
          "name": "stdout",
          "text": [
            "Enter the number:-99\n",
            "Negative Number\n"
          ]
        }
      ]
    },
    {
      "cell_type": "markdown",
      "source": [
        "**Reverse a string**"
      ],
      "metadata": {
        "id": "uXha-5k0UC6M"
      }
    },
    {
      "cell_type": "code",
      "source": [
        "s=\"Bhoomika\"\n",
        "reversed_s=s[::-1]\n",
        "print(\"Reversed string=\",reversed_s)\n"
      ],
      "metadata": {
        "colab": {
          "base_uri": "https://localhost:8080/"
        },
        "id": "eX8sqzbSUjhY",
        "outputId": "26abbeb4-0ee1-4f85-ef00-eb9eda3a2005"
      },
      "execution_count": 7,
      "outputs": [
        {
          "output_type": "stream",
          "name": "stdout",
          "text": [
            "Reversed string= akimoohB\n"
          ]
        }
      ]
    },
    {
      "cell_type": "markdown",
      "source": [
        "**Vowels in a string**"
      ],
      "metadata": {
        "id": "Mo0MGHGSVTdi"
      }
    },
    {
      "cell_type": "code",
      "source": [
        "s=\"Bhoomika\"\n",
        "count=0\n",
        "for char in s.lower():\n",
        "  if char in \"aeiou\":\n",
        "    count+=1\n",
        "print(\"Number of vowels:\",count)\n"
      ],
      "metadata": {
        "colab": {
          "base_uri": "https://localhost:8080/"
        },
        "id": "8DZvpogXVZHj",
        "outputId": "8cf8cd13-d265-44f8-f30f-311f30772994"
      },
      "execution_count": 8,
      "outputs": [
        {
          "output_type": "stream",
          "name": "stdout",
          "text": [
            "Number of vowels: 4\n"
          ]
        }
      ]
    },
    {
      "cell_type": "markdown",
      "source": [
        "**Multiplication of a number**"
      ],
      "metadata": {
        "id": "CrMY8Ho5WnGd"
      }
    },
    {
      "cell_type": "code",
      "source": [
        "num=int(input(\"Enter the number:\"))\n",
        "for i in range(1,11):\n",
        "  print(f\"{num}X{i}={num*i}\")"
      ],
      "metadata": {
        "colab": {
          "base_uri": "https://localhost:8080/"
        },
        "id": "8jSn0d12W4Xj",
        "outputId": "aad6167d-f1d4-416b-8db7-07a65e5a68a1"
      },
      "execution_count": 10,
      "outputs": [
        {
          "output_type": "stream",
          "name": "stdout",
          "text": [
            "Enter the number:12\n",
            "12X1=12\n",
            "12X2=24\n",
            "12X3=36\n",
            "12X4=48\n",
            "12X5=60\n",
            "12X6=72\n",
            "12X7=84\n",
            "12X8=96\n",
            "12X9=108\n",
            "12X10=120\n"
          ]
        }
      ]
    },
    {
      "cell_type": "markdown",
      "source": [
        "**Print a pattern**"
      ],
      "metadata": {
        "id": "zIsiopfBXc8M"
      }
    },
    {
      "cell_type": "code",
      "source": [
        "row=5\n",
        "for i in range(1,row+1):\n",
        "  print(\"*\"*i)"
      ],
      "metadata": {
        "colab": {
          "base_uri": "https://localhost:8080/"
        },
        "id": "I2braXC6XvvV",
        "outputId": "6d4ec8fd-01cf-4a24-edc8-674472c52c60"
      },
      "execution_count": 11,
      "outputs": [
        {
          "output_type": "stream",
          "name": "stdout",
          "text": [
            "*\n",
            "**\n",
            "***\n",
            "****\n",
            "*****\n"
          ]
        }
      ]
    }
  ]
}