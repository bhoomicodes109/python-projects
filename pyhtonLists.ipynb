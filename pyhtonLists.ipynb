{
  "nbformat": 4,
  "nbformat_minor": 0,
  "metadata": {
    "colab": {
      "provenance": [],
      "authorship_tag": "ABX9TyMeIADjglVdbljNbN7ghjHB",
      "include_colab_link": true
    },
    "kernelspec": {
      "name": "python3",
      "display_name": "Python 3"
    },
    "language_info": {
      "name": "python"
    }
  },
  "cells": [
    {
      "cell_type": "markdown",
      "metadata": {
        "id": "view-in-github",
        "colab_type": "text"
      },
      "source": [
        "<a href=\"https://colab.research.google.com/github/bhoomicodes109/python-projects/blob/main/pyhtonLists.ipynb\" target=\"_parent\"><img src=\"https://colab.research.google.com/assets/colab-badge.svg\" alt=\"Open In Colab\"/></a>"
      ]
    },
    {
      "cell_type": "markdown",
      "source": [
        "**Print List Elements and Sum**"
      ],
      "metadata": {
        "id": "cA5lIE8kaOUa"
      }
    },
    {
      "cell_type": "code",
      "execution_count": 1,
      "metadata": {
        "colab": {
          "base_uri": "https://localhost:8080/"
        },
        "id": "R5CzetIpaEQ_",
        "outputId": "b2f512bd-d56d-4a5a-9a7f-7c8e7151d2c3"
      },
      "outputs": [
        {
          "output_type": "stream",
          "name": "stdout",
          "text": [
            "Elements are:\n",
            "10\n",
            "20\n",
            "30\n",
            "40\n",
            "50\n",
            "Sum of elements is: 150\n"
          ]
        }
      ],
      "source": [
        "numbers=[10,20,30,40,50]\n",
        "print(\"Elements are:\")\n",
        "print(numbers[0])\n",
        "print(numbers[1])\n",
        "print(numbers[2])\n",
        "print(numbers[3])\n",
        "print(numbers[4])\n",
        "print(\"Sum of elements is:\",sum(numbers))"
      ]
    },
    {
      "cell_type": "markdown",
      "source": [
        "**Count even and odd number in list**"
      ],
      "metadata": {
        "id": "uT2ExCaLbmbK"
      }
    },
    {
      "cell_type": "code",
      "source": [
        "num_list=[1,4,5,6,7,9,12,14,17,20]\n",
        "even_count=0\n",
        "odd_count=0\n",
        "for i in num_list:\n",
        "  if i%2==0:\n",
        "    even_count+=1\n",
        "  else:\n",
        "    odd_count+=1\n",
        "print(\"Even number=\",even_count)\n",
        "print(\"Odd numbers=\",odd_count)"
      ],
      "metadata": {
        "colab": {
          "base_uri": "https://localhost:8080/"
        },
        "id": "pCcPNRu_b2T9",
        "outputId": "36519f1e-02bb-409f-af6b-a51f5d8fae1e"
      },
      "execution_count": 4,
      "outputs": [
        {
          "output_type": "stream",
          "name": "stdout",
          "text": [
            "Even number= 5\n",
            "Odd numbers= 5\n"
          ]
        }
      ]
    },
    {
      "cell_type": "markdown",
      "source": [
        "**Largest number in list** -\n",
        "this can be done using max() function"
      ],
      "metadata": {
        "id": "6kJ6wN5hdpd1"
      }
    },
    {
      "cell_type": "code",
      "source": [
        "number=[34,56,23,89,12,78]\n",
        "largest=number[0]\n",
        "for num in number:\n",
        "  if num>largest:\n",
        "    largest=num\n",
        "print(\"Largest number in list=\",largest)"
      ],
      "metadata": {
        "colab": {
          "base_uri": "https://localhost:8080/"
        },
        "id": "PxJX6jgUdyRf",
        "outputId": "2bb4e123-d919-464e-b964-c0663c993d13"
      },
      "execution_count": 5,
      "outputs": [
        {
          "output_type": "stream",
          "name": "stdout",
          "text": [
            "Largest number in list= 89\n"
          ]
        }
      ]
    },
    {
      "cell_type": "markdown",
      "source": [
        "**Reverse the list**"
      ],
      "metadata": {
        "id": "HlibicQKg-Y5"
      }
    },
    {
      "cell_type": "code",
      "source": [
        "num=[22,12,65,81,76]\n",
        "reversed_l=[]\n",
        "for i in range(len(num)-1,-1,-1):\n",
        "  reversed_l.append(num[i])\n",
        "print(\"original list:\",num)\n",
        "print(\"reversed list:\",reversed_l)\n",
        "\n",
        "#using slicing\n",
        "print(\"Reversed list using slicing=\",num[::-1])"
      ],
      "metadata": {
        "colab": {
          "base_uri": "https://localhost:8080/"
        },
        "id": "vjnxXmTJhE7a",
        "outputId": "1e61ebc8-a36e-4dd5-c861-3c48dac1a992"
      },
      "execution_count": 8,
      "outputs": [
        {
          "output_type": "stream",
          "name": "stdout",
          "text": [
            "original list: [22, 12, 65, 81, 76]\n",
            "reversed list: [76, 81, 65, 12, 22]\n",
            "Reversed list using slicing= [76, 81, 65, 12, 22]\n"
          ]
        }
      ]
    },
    {
      "cell_type": "markdown",
      "source": [
        "**Count frequency of each element in list**"
      ],
      "metadata": {
        "id": "CMIbFOCXidea"
      }
    },
    {
      "cell_type": "code",
      "source": [
        "number=[1,2,2,3,4,5,5,4,6,7,1,1,8]\n",
        "freq={}\n",
        "for n in number:\n",
        "  if n in freq:\n",
        "    freq[n]+=1\n",
        "  else:\n",
        "    freq[n]=1\n",
        "for key,value in freq.items():\n",
        "  print(f\"{key} appears {value} times\")"
      ],
      "metadata": {
        "colab": {
          "base_uri": "https://localhost:8080/"
        },
        "id": "fUqz4o-5irsE",
        "outputId": "51d64e21-f015-48d2-d40a-88c1b2cb02b2"
      },
      "execution_count": 9,
      "outputs": [
        {
          "output_type": "stream",
          "name": "stdout",
          "text": [
            "1 appears 3 times\n",
            "2 appears 2 times\n",
            "3 appears 1 times\n",
            "4 appears 2 times\n",
            "5 appears 2 times\n",
            "6 appears 1 times\n",
            "7 appears 1 times\n",
            "8 appears 1 times\n"
          ]
        }
      ]
    },
    {
      "cell_type": "markdown",
      "source": [
        "**Finding duplicates in list**"
      ],
      "metadata": {
        "id": "AbW5qoyDldWA"
      }
    },
    {
      "cell_type": "code",
      "source": [
        "my_list=[1,2,2,3,4,1,5,6,4]\n",
        "duplicate_list=[]\n",
        "seen=[]\n",
        "for num in my_list:\n",
        "  if num in seen:\n",
        "    if num not in duplicate_list:\n",
        "      duplicate_list.append(num)\n",
        "  else:\n",
        "    seen.append(num)\n",
        "print(\"Duplicate elements are:\",duplicate_list)"
      ],
      "metadata": {
        "colab": {
          "base_uri": "https://localhost:8080/"
        },
        "id": "IJ6FyZgiltfD",
        "outputId": "705fee43-eef3-4a88-b2c7-f3a0e102dd3e"
      },
      "execution_count": 10,
      "outputs": [
        {
          "output_type": "stream",
          "name": "stdout",
          "text": [
            "Duplicate elements are: [2, 1, 4]\n"
          ]
        }
      ]
    }
  ]
}