{
  "nbformat": 4,
  "nbformat_minor": 0,
  "metadata": {
    "colab": {
      "provenance": [],
      "authorship_tag": "ABX9TyP+b27bs7To1ARckhgsgdqs",
      "include_colab_link": true
    },
    "kernelspec": {
      "name": "python3",
      "display_name": "Python 3"
    },
    "language_info": {
      "name": "python"
    }
  },
  "cells": [
    {
      "cell_type": "markdown",
      "metadata": {
        "id": "view-in-github",
        "colab_type": "text"
      },
      "source": [
        "<a href=\"https://colab.research.google.com/github/bhoomicodes109/python-projects/blob/main/PythonLoops.ipynb\" target=\"_parent\"><img src=\"https://colab.research.google.com/assets/colab-badge.svg\" alt=\"Open In Colab\"/></a>"
      ]
    },
    {
      "cell_type": "markdown",
      "source": [
        "**prints numbers divisible by 5 (0-100)**\n",
        "\n"
      ],
      "metadata": {
        "id": "tmRBpcBiPN4F"
      }
    },
    {
      "cell_type": "code",
      "execution_count": 1,
      "metadata": {
        "colab": {
          "base_uri": "https://localhost:8080/"
        },
        "id": "KbJ5eD0mO7DG",
        "outputId": "7151aafe-59ec-4419-c189-e4ca00b71844"
      },
      "outputs": [
        {
          "output_type": "stream",
          "name": "stdout",
          "text": [
            "5\n",
            "10\n",
            "15\n",
            "20\n",
            "25\n",
            "30\n",
            "35\n",
            "40\n",
            "45\n",
            "50\n",
            "55\n",
            "60\n",
            "65\n",
            "70\n",
            "75\n",
            "80\n",
            "85\n",
            "90\n",
            "95\n",
            "100\n"
          ]
        }
      ],
      "source": [
        "for i in range(1,101):\n",
        "  if i%5==0:\n",
        "    print(i)\n",
        ""
      ]
    },
    {
      "cell_type": "markdown",
      "source": [
        "**Factorial using while loop**"
      ],
      "metadata": {
        "id": "mu6kift1QJS0"
      }
    },
    {
      "cell_type": "code",
      "source": [
        "num=int(input(\"Enter the number:\"))\n",
        "fact=1\n",
        "i=1\n",
        "while i<=num:\n",
        "  fact*=i\n",
        "  i+=1\n",
        "print(\"factorial:\",fact)\n"
      ],
      "metadata": {
        "colab": {
          "base_uri": "https://localhost:8080/"
        },
        "id": "bJNfrSJcQWhy",
        "outputId": "39cf4daa-e6b9-4e95-c454-1fb3363ec326"
      },
      "execution_count": 3,
      "outputs": [
        {
          "output_type": "stream",
          "name": "stdout",
          "text": [
            "Enter the number:5\n",
            "factorial: 120\n"
          ]
        }
      ]
    },
    {
      "cell_type": "markdown",
      "source": [
        "**Prime number or not**"
      ],
      "metadata": {
        "id": "SGY7ISJvVE3b"
      }
    },
    {
      "cell_type": "code",
      "source": [
        "num=int(input(\"enter the number:\"))\n",
        "if num<=1:\n",
        "  print(f\"{num} is not a Prime number\")\n",
        "else:\n",
        "  is_prime=True\n",
        "  for i in range(2,num):\n",
        "    if num%i==0:\n",
        "      is_prime=False\n",
        "      break\n",
        "\n",
        "  if is_prime:\n",
        "    print(f\"{num} is a Prime number\")\n",
        "  else:\n",
        "    print(f\"{num} is not a Prime number\")"
      ],
      "metadata": {
        "colab": {
          "base_uri": "https://localhost:8080/"
        },
        "id": "Hous7wgZVNI7",
        "outputId": "1468e83e-f5b9-4bbb-df23-49ee5409ab4d"
      },
      "execution_count": 7,
      "outputs": [
        {
          "output_type": "stream",
          "name": "stdout",
          "text": [
            "enter the number:11\n",
            "11 is a Prime number\n"
          ]
        }
      ]
    }
  ]
}