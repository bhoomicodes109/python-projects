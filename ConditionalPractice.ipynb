{
  "nbformat": 4,
  "nbformat_minor": 0,
  "metadata": {
    "colab": {
      "provenance": [],
      "authorship_tag": "ABX9TyMpMO5XGMlYx6DlKfmaMr7h",
      "include_colab_link": true
    },
    "kernelspec": {
      "name": "python3",
      "display_name": "Python 3"
    },
    "language_info": {
      "name": "python"
    }
  },
  "cells": [
    {
      "cell_type": "markdown",
      "metadata": {
        "id": "view-in-github",
        "colab_type": "text"
      },
      "source": [
        "<a href=\"https://colab.research.google.com/github/bhoomicodes109/python-projects/blob/main/ConditionalPractice.ipynb\" target=\"_parent\"><img src=\"https://colab.research.google.com/assets/colab-badge.svg\" alt=\"Open In Colab\"/></a>"
      ]
    },
    {
      "cell_type": "markdown",
      "source": [
        "Marks Grading Ststem"
      ],
      "metadata": {
        "id": "h7CHPHFKZpix"
      }
    },
    {
      "cell_type": "code",
      "execution_count": 2,
      "metadata": {
        "id": "N01BDNjeEQAF",
        "colab": {
          "base_uri": "https://localhost:8080/"
        },
        "outputId": "a7010137-9278-4732-f36a-8d282158a79c"
      },
      "outputs": [
        {
          "output_type": "stream",
          "name": "stdout",
          "text": [
            "Enter the marks:77\n",
            "You got B grade\n"
          ]
        }
      ],
      "source": [
        "marks=int(input(\"Enter the marks:\"))\n",
        "if marks>=85:\n",
        "  print(\"You got A grade\")\n",
        "elif marks>=65:\n",
        "  print(\"You got B grade\")\n",
        "elif marks>=35:\n",
        "  print(\"You got C grade\")\n",
        "else:\n",
        "  print(\"Grade:Fail!\")"
      ]
    },
    {
      "cell_type": "markdown",
      "source": [
        "Leap Year Checker"
      ],
      "metadata": {
        "id": "uDNeMzQ6aXeP"
      }
    },
    {
      "cell_type": "code",
      "source": [
        "Year=int(input(\"Enter the year:\"))\n",
        "if (Year%4==0 and Year%100!=0) or (Year%400==0):\n",
        "  print(f\"{Year} is a Leap year\")\n",
        "else:\n",
        "  print(f\"{Year} is not a Leap year\")"
      ],
      "metadata": {
        "colab": {
          "base_uri": "https://localhost:8080/"
        },
        "id": "8LfTCoC1aWm0",
        "outputId": "7980f01e-5e37-401a-ed12-511aa39badf1"
      },
      "execution_count": 3,
      "outputs": [
        {
          "output_type": "stream",
          "name": "stdout",
          "text": [
            "Enter the year:2012\n",
            "2012 is a Leap year\n"
          ]
        }
      ]
    },
    {
      "cell_type": "markdown",
      "source": [
        "ATM withdrawal check"
      ],
      "metadata": {
        "id": "usYAtyZ7cOSS"
      }
    },
    {
      "cell_type": "code",
      "source": [
        "balance=10000\n",
        "withdraw=int(input(\"Enter the amount to be withdrawn:\"))\n",
        "if withdraw<=balance:\n",
        "  print(\"Transaction Successfull!\")\n",
        "else:\n",
        "  print(\"Transaction Unsuccessfull!\")"
      ],
      "metadata": {
        "colab": {
          "base_uri": "https://localhost:8080/"
        },
        "id": "CZXYbQ9kcOjZ",
        "outputId": "363c75f0-7797-4402-d558-15ccaac281d8"
      },
      "execution_count": 4,
      "outputs": [
        {
          "output_type": "stream",
          "name": "stdout",
          "text": [
            "Enter the amount to be withdrawn:8900\n",
            "Transaction Successfull!\n"
          ]
        }
      ]
    }
  ]
}